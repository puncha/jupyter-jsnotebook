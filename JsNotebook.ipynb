{
 "cells": [
  {
   "cell_type": "markdown",
   "id": "original-reservation",
   "metadata": {},
   "source": [
    "# Sample Javascript Juypter Notebook"
   ]
  },
  {
   "cell_type": "markdown",
   "id": "automated-editor",
   "metadata": {},
   "source": [
    "Define two variables `a` and `b`:"
   ]
  },
  {
   "cell_type": "code",
   "execution_count": 1,
   "id": "touched-equity",
   "metadata": {},
   "outputs": [],
   "source": [
    "let a= \"foo\";\n",
    "let b= \"bar\";"
   ]
  },
  {
   "cell_type": "markdown",
   "id": "direct-surgeon",
   "metadata": {},
   "source": [
    "Use `+` to combine two strings:"
   ]
  },
  {
   "cell_type": "code",
   "execution_count": 2,
   "id": "cooperative-wyoming",
   "metadata": {},
   "outputs": [
    {
     "data": {
      "text/plain": [
       "'foobar'"
      ]
     },
     "execution_count": 2,
     "metadata": {},
     "output_type": "execute_result"
    }
   ],
   "source": [
    "a + b"
   ]
  },
  {
   "cell_type": "markdown",
   "id": "arabic-talent",
   "metadata": {},
   "source": [
    "Use `slice()` to extract sub-strings"
   ]
  },
  {
   "cell_type": "code",
   "execution_count": 3,
   "id": "likely-fiber",
   "metadata": {},
   "outputs": [
    {
     "data": {
      "text/plain": [
       "'ooba'"
      ]
     },
     "execution_count": 3,
     "metadata": {},
     "output_type": "execute_result"
    }
   ],
   "source": [
    "(a+b).slice(1,5)"
   ]
  },
  {
   "cell_type": "markdown",
   "id": "embedded-depth",
   "metadata": {},
   "source": [
    "## Enjoy :)"
   ]
  }
 ],
 "metadata": {
  "kernelspec": {
   "display_name": "Javascript (Node.js)",
   "language": "javascript",
   "name": "javascript"
  },
  "language_info": {
   "file_extension": ".js",
   "mimetype": "application/javascript",
   "name": "javascript",
   "version": "14.8.0"
  }
 },
 "nbformat": 4,
 "nbformat_minor": 5
}
